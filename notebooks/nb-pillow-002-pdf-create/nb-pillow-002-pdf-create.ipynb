{
 "cells": [
  {
   "cell_type": "code",
   "execution_count": 34,
   "metadata": {},
   "outputs": [],
   "source": [
    "import os\n",
    "import sys\n",
    "from fpdf import FPDF # https://pyfpdf.github.io/fpdf2/Margins.html\n",
    "from PIL import Image\n",
    "\n",
    "sys.path.append('../../lib/')\n",
    "from router import getPath"
   ]
  },
  {
   "cell_type": "code",
   "execution_count": 35,
   "metadata": {},
   "outputs": [],
   "source": [
    "# print(os.listdir(r'C:\\Windows\\fonts'))"
   ]
  },
  {
   "cell_type": "code",
   "execution_count": 36,
   "metadata": {},
   "outputs": [],
   "source": [
    "dirNbOut = getPath('notebook-output')"
   ]
  },
  {
   "cell_type": "code",
   "execution_count": 37,
   "metadata": {
    "slideshow": {
     "slide_type": "-"
    }
   },
   "outputs": [],
   "source": [
    "_notebookFolder = 'nb-pillow-002-pdf-create'"
   ]
  },
  {
   "cell_type": "markdown",
   "metadata": {},
   "source": [
    "# Create Pdf"
   ]
  },
  {
   "cell_type": "code",
   "execution_count": 50,
   "metadata": {},
   "outputs": [],
   "source": [
    "pdf = FPDF(orientation='P', unit='mm', format='A5')\n",
    "\n",
    "pdf.set_margin(5)\n",
    "\n",
    "pdf.add_font('DejaVu', '', 'C:/Windows/fonts/DejaVuSerif-BoldItalic.ttf', uni=True)"
   ]
  },
  {
   "cell_type": "code",
   "execution_count": 51,
   "metadata": {},
   "outputs": [
    {
     "data": {
      "text/plain": [
       "['0-1_sicilian_clasic',\n",
       " '1-1_sicilian_scheveningen',\n",
       " '2-1_sicilian_dragon',\n",
       " '3-1_sicilian_najdorf',\n",
       " '4-1_sicilian_pelikan',\n",
       " '5-0_sicilian_main']"
      ]
     },
     "execution_count": 51,
     "metadata": {},
     "output_type": "execute_result"
    }
   ],
   "source": [
    "lessonName = 'sicilian-def'\n",
    "\n",
    "# List lesson folder\n",
    "imgFolders = os.path.join( \n",
    "    dirNbOut,\n",
    "    'nb-pillow-001-image-exporter',\n",
    "    'lessons',\n",
    "    lessonName, #----------------------------------------------- define\n",
    ")\n",
    "listFolders = os.listdir(imgFolders)\n",
    "listFolders"
   ]
  },
  {
   "cell_type": "code",
   "execution_count": 52,
   "metadata": {},
   "outputs": [],
   "source": [
    "\n",
    "for idxF, folderName in enumerate(listFolders):\n",
    "\n",
    "    parts = folderName.split('_')\n",
    "    lessonLine = parts[2]\n",
    "    \n",
    "    \n",
    "    pdf.add_page()\n",
    "\n",
    "    pdf.set_font('DejaVu', size=14)\n",
    "    pdf.cell(0, 0, txt=lessonName, ln=1, align=\"L\")\n",
    "\n",
    "    pdf.set_font('DejaVu', size=12)\n",
    "    pdf.cell(0, 16, txt=lessonLine, ln=1, align=\"L\")\n",
    "    \n",
    "    ## add images to page\n",
    "    \n",
    "    imgPath = os.path.join( #*define\n",
    "        dirNbOut,\n",
    "        'nb-pillow-001-image-exporter',\n",
    "        'lessons',\n",
    "        lessonName, #'caro-kann',\n",
    "        folderName #'0-0_caro-kann_base',\n",
    "    )\n",
    "    listImgs = os.listdir(imgPath)\n",
    "    \n",
    "    \n",
    "    \n",
    "    a5W = 148\n",
    "    a5H = 210\n",
    "\n",
    "    cursorX = 5\n",
    "    cursorY = 20\n",
    "\n",
    "    cursorRow = 0\n",
    "    cursorCol = 0\n",
    "\n",
    "    imgSep = 34\n",
    "\n",
    "    for idx, imgName in enumerate(listImgs):\n",
    "        #imgName = '0-0_caro-kann_base__1.1.jpg'\n",
    "        imgFilePath = os.path.join( \n",
    "            imgPath,\n",
    "            imgName\n",
    "        )\n",
    "\n",
    "        img = Image.open(imgFilePath)\n",
    "\n",
    "        #print(idx,cursorX, cursorY)\n",
    "\n",
    "        pdf.image(img, x=cursorX, y=cursorY, type='JPG', w=34, h=34) \n",
    "\n",
    "        #pdf.set_xy(cursorX, cursorY)\n",
    "        #pdf.write(4, str(idx))\n",
    "\n",
    "        cursorCol += 1\n",
    "        cursorX += imgSep\n",
    "\n",
    "        if cursorX > a5W-34:\n",
    "            cursorCol = 0\n",
    "            cursorRow += 1\n",
    "            cursorY += imgSep\n",
    "            cursorX = 5\n",
    "            if cursorY > a5H-34:\n",
    "                # max page size\n",
    "                print('end')\n",
    "                cursorCol = 0\n",
    "                cursorRow = 0\n",
    "                cursorX = 5\n",
    "                cursorY = 20\n",
    "                pdf.add_page()\n",
    "                \n",
    "                pdf.set_font('DejaVu', size=8)\n",
    "                pdf.set_xy(5, 10)\n",
    "                pdf.write(4, f'continue: {lessonName} {lessonLine}')"
   ]
  },
  {
   "cell_type": "markdown",
   "metadata": {},
   "source": [
    "## Save"
   ]
  },
  {
   "cell_type": "code",
   "execution_count": 53,
   "metadata": {},
   "outputs": [],
   "source": [
    "pdfName = f'{lessonName}.pdf'\n",
    "\n",
    "productPath = os.path.join( #*define\n",
    "    dirNbOut,\n",
    "    _notebookFolder\n",
    ")\n",
    "\n",
    "if not os.path.exists( productPath ):\n",
    "    os.makedirs( productPath )\n",
    "    \n",
    "pdfFilePath = os.path.join( #*define\n",
    "    productPath,\n",
    "    pdfName\n",
    ")\n",
    "    \n",
    "pdf.output(pdfFilePath)"
   ]
  },
  {
   "cell_type": "code",
   "execution_count": null,
   "metadata": {},
   "outputs": [],
   "source": []
  }
 ],
 "metadata": {
  "kernelspec": {
   "display_name": "Python 3",
   "language": "python",
   "name": "python3"
  },
  "language_info": {
   "codemirror_mode": {
    "name": "ipython",
    "version": 3
   },
   "file_extension": ".py",
   "mimetype": "text/x-python",
   "name": "python",
   "nbconvert_exporter": "python",
   "pygments_lexer": "ipython3",
   "version": "3.7.1"
  }
 },
 "nbformat": 4,
 "nbformat_minor": 2
}
