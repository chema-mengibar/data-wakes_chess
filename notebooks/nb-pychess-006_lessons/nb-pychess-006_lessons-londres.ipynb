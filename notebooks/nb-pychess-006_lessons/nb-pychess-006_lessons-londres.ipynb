{
 "cells": [
  {
   "cell_type": "code",
   "execution_count": 2,
   "metadata": {},
   "outputs": [],
   "source": [
    "from IPython.display import display, clear_output\n",
    "import ipywidgets as widgets\n",
    "#import chess\n",
    "#import chess.pgn\n",
    "import copy\n",
    "import collections"
   ]
  },
  {
   "cell_type": "code",
   "execution_count": 3,
   "metadata": {},
   "outputs": [],
   "source": [
    "%run ../shared/util_chess.ipynb\n",
    "%run ../shared/util_engine.ipynb\n",
    "%run ../shared/util_board.ipynb"
   ]
  },
  {
   "cell_type": "code",
   "execution_count": 4,
   "metadata": {},
   "outputs": [],
   "source": [
    "_notebookFolder = 'nb-006'\n",
    "_version = 'londres'"
   ]
  },
  {
   "cell_type": "code",
   "execution_count": 5,
   "metadata": {},
   "outputs": [],
   "source": [
    "utilsEngine = UtilsEngine()\n",
    "utilsChess = UtilsChess()\n",
    "utilsBoard = UtilsBoard( f'Lesson: {_version}')"
   ]
  },
  {
   "cell_type": "markdown",
   "metadata": {},
   "source": [
    "# Lesson\n",
    "\n",
    "Description"
   ]
  },
  {
   "cell_type": "code",
   "execution_count": 9,
   "metadata": {},
   "outputs": [],
   "source": [
    "# salida espanola\n",
    "boardInit = chess.Board('r1bq1rk1/pp2bppp/2n1pp2/2pp4/3P1B2/2PBPN2/PP1N1PPP/R2QK2R b KQkq - 8 34')\n",
    "boardSvgInit = utilsBoard.boardToSvg(boardInit, _lastmove=['f1','b5'] )\n",
    "\n",
    "textInit = ''''''\n",
    "\n",
    "blockHeader = utilsBoard.getBlock12( boardSvgInit, textInit)\n",
    "utilsBoard.addRow(blockHeader)"
   ]
  }
 ],
 "metadata": {
  "kernelspec": {
   "display_name": "Python 3",
   "language": "python",
   "name": "python3"
  },
  "language_info": {
   "codemirror_mode": {
    "name": "ipython",
    "version": 3
   },
   "file_extension": ".py",
   "mimetype": "text/x-python",
   "name": "python",
   "nbconvert_exporter": "python",
   "pygments_lexer": "ipython3",
   "version": "3.7.1"
  }
 },
 "nbformat": 4,
 "nbformat_minor": 2
}
