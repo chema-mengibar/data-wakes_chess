{
 "cells": [
  {
   "cell_type": "code",
   "execution_count": 30,
   "metadata": {},
   "outputs": [],
   "source": [
    "import os\n",
    "import sys\n",
    "import chess.pgn\n",
    "\n",
    "sys.path.append('../../lib/')\n",
    "from router import getPath"
   ]
  },
  {
   "cell_type": "code",
   "execution_count": 31,
   "metadata": {},
   "outputs": [],
   "source": [
    "%run ../shared/util_chess.ipynb\n",
    "%run ../shared/util_mapRender.ipynb"
   ]
  },
  {
   "cell_type": "code",
   "execution_count": 32,
   "metadata": {},
   "outputs": [],
   "source": [
    "utilsChess = UtilsChess()\n",
    "\n",
    "options = {\n",
    "    'newspaper': True,\n",
    "    'scale': 175,\n",
    "    # 'withDecorator': True\n",
    "}\n",
    "utilsMapRender = MapRender(options)"
   ]
  },
  {
   "cell_type": "code",
   "execution_count": 23,
   "metadata": {},
   "outputs": [],
   "source": [
    "dirUniverse = getPath('universe')\n",
    "dirNbOut = getPath('notebook-output')"
   ]
  },
  {
   "cell_type": "code",
   "execution_count": 24,
   "metadata": {},
   "outputs": [],
   "source": [
    "_notebookFolder = 'nb-pillow-001-image-exporter'"
   ]
  },
  {
   "cell_type": "markdown",
   "metadata": {},
   "source": [
    "## Load games"
   ]
  },
  {
   "cell_type": "code",
   "execution_count": 25,
   "metadata": {},
   "outputs": [
    {
     "data": {
      "text/plain": [
       "9"
      ]
     },
     "execution_count": 25,
     "metadata": {},
     "output_type": "execute_result"
    }
   ],
   "source": [
    "listGames = []\n",
    "\n",
    "pgnFileName = 'caro-kann_lines-export.pgn' #*define\n",
    "\n",
    "pgnPath = os.path.join( #*define\n",
    "    dirUniverse,\n",
    "    'lessons',\n",
    "    pgnFileName\n",
    ")\n",
    "\n",
    "with open(pgnPath) as f:\n",
    "    while True:\n",
    "        game = chess.pgn.read_game(f)\n",
    "        if game is None:\n",
    "            break\n",
    "        listGames.append(game)\n",
    "        \n",
    "len(listGames)"
   ]
  },
  {
   "cell_type": "code",
   "execution_count": 92,
   "metadata": {},
   "outputs": [],
   "source": [
    " #*define\n",
    "gameIdx = 8"
   ]
  },
  {
   "cell_type": "code",
   "execution_count": 93,
   "metadata": {},
   "outputs": [
    {
     "data": {
      "text/plain": [
       "Headers(Event='caro-kann_development-2N', Site='', Date='????.??.??', Round='9', White='', Black='', Result='*', ECO='B10u')"
      ]
     },
     "execution_count": 93,
     "metadata": {},
     "output_type": "execute_result"
    }
   ],
   "source": [
    "game = listGames[gameIdx] \n",
    "game.headers"
   ]
  },
  {
   "cell_type": "markdown",
   "metadata": {},
   "source": [
    "## Parse moves"
   ]
  },
  {
   "cell_type": "code",
   "execution_count": 94,
   "metadata": {},
   "outputs": [],
   "source": [
    "Moves = utilsChess.createNodeFlagList(game)"
   ]
  },
  {
   "cell_type": "markdown",
   "metadata": {},
   "source": [
    "## Create target dir"
   ]
  },
  {
   "cell_type": "code",
   "execution_count": 95,
   "metadata": {},
   "outputs": [],
   "source": [
    "exportBaseFileName = f'{gameIdx}-{game.headers[\"Round\"]}_{game.headers[\"Event\"]}' #*define"
   ]
  },
  {
   "cell_type": "code",
   "execution_count": 96,
   "metadata": {},
   "outputs": [
    {
     "name": "stdout",
     "output_type": "stream",
     "text": [
      "C:\\Users\\Chema\\Documents\\+code\\data-wakes_chess\\notebook-output\\nb-pillow-001-image-exporter\\lessons\\caro-kann\\8-9_caro-kann_development-2N\n"
     ]
    }
   ],
   "source": [
    "# var: pgnFileName\n",
    "\n",
    "productPath =  os.path.join(  #*define\n",
    "    dirNbOut,\n",
    "    _notebookFolder,\n",
    "    'lessons',\n",
    "    'caro-kann',\n",
    "    exportBaseFileName\n",
    ")\n",
    "\n",
    "if not os.path.exists( productPath ):\n",
    "    os.makedirs( productPath )\n",
    "    \n",
    "print(productPath)"
   ]
  },
  {
   "cell_type": "markdown",
   "metadata": {},
   "source": [
    "## Export moves to images"
   ]
  },
  {
   "cell_type": "code",
   "execution_count": 97,
   "metadata": {
    "slideshow": {
     "slide_type": "skip"
    }
   },
   "outputs": [],
   "source": [
    "## example: see utility Class '/shared/util_chess.ipynb'\n",
    "# move = Moves[0]\n",
    "# # move._turn #  -> who moved ;  Different to python-chess   move.turn() -> who is next \n",
    "\n",
    "# map = move.board().piece_map()\n",
    "# print(map)\n",
    "# print(move.move.uci()[0:2] , move.move.uci()[2:4])\n",
    "# options = {\n",
    "#     'lastMoveFromTo':[move.move.uci()[0:2] , move.move.uci()[2:4]],  #move.move.uci()[0:2]\n",
    "#     #'isWhiteTurn': move.turn() # move._turn or move.turn() \n",
    "# }\n",
    "\n",
    "# img = utilsMapRender.draw(map, options)\n",
    "\n",
    "# img"
   ]
  },
  {
   "cell_type": "code",
   "execution_count": 98,
   "metadata": {},
   "outputs": [],
   "source": [
    "for move in Moves:\n",
    "    map = move.board().piece_map()\n",
    "\n",
    "    options = {\n",
    "        'lastMoveFromTo':['' , move.move.uci()[2:4]],  #move.move.uci()[0:2]\n",
    "        #'isWhiteTurn': move.turn() # move._turn or move.turn() \n",
    "    }\n",
    "\n",
    "    img = utilsMapRender.draw(map, options)\n",
    "\n",
    "    colorPos = '1' if move._turn is True else '2'\n",
    "    filename = f'{exportBaseFileName}__{move._idx}.{colorPos}.jpg'\n",
    "\n",
    "    img.save( os.path.join( productPath, filename ) , \"JPEG\", quality=100)"
   ]
  },
  {
   "cell_type": "code",
   "execution_count": null,
   "metadata": {},
   "outputs": [],
   "source": []
  },
  {
   "cell_type": "code",
   "execution_count": null,
   "metadata": {},
   "outputs": [],
   "source": []
  },
  {
   "cell_type": "code",
   "execution_count": null,
   "metadata": {},
   "outputs": [],
   "source": []
  },
  {
   "cell_type": "code",
   "execution_count": null,
   "metadata": {},
   "outputs": [],
   "source": []
  }
 ],
 "metadata": {
  "kernelspec": {
   "display_name": "Python 3",
   "language": "python",
   "name": "python3"
  },
  "language_info": {
   "codemirror_mode": {
    "name": "ipython",
    "version": 3
   },
   "file_extension": ".py",
   "mimetype": "text/x-python",
   "name": "python",
   "nbconvert_exporter": "python",
   "pygments_lexer": "ipython3",
   "version": "3.7.1"
  }
 },
 "nbformat": 4,
 "nbformat_minor": 2
}
