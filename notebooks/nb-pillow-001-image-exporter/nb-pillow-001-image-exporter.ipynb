{
 "cells": [
  {
   "cell_type": "code",
   "execution_count": 1,
   "metadata": {},
   "outputs": [],
   "source": [
    "import os\n",
    "import sys\n",
    "import chess.pgn\n",
    "\n",
    "sys.path.append('../../lib/')\n",
    "from router import getPath"
   ]
  },
  {
   "cell_type": "code",
   "execution_count": 2,
   "metadata": {},
   "outputs": [],
   "source": [
    "%run ../shared/util_chess.ipynb\n",
    "%run ../shared/util_mapRender.ipynb"
   ]
  },
  {
   "cell_type": "code",
   "execution_count": 3,
   "metadata": {},
   "outputs": [],
   "source": [
    "utilsChess = UtilsChess()\n",
    "\n",
    "options = {\n",
    "    'newspaper': True,\n",
    "    'scale': 175,\n",
    "    # 'withDecorator': True\n",
    "}\n",
    "utilsMapRender = MapRender(options)"
   ]
  },
  {
   "cell_type": "code",
   "execution_count": 4,
   "metadata": {},
   "outputs": [],
   "source": [
    "dirUniverse = getPath('universe')\n",
    "dirNbOut = getPath('notebook-output')"
   ]
  },
  {
   "cell_type": "code",
   "execution_count": 5,
   "metadata": {},
   "outputs": [],
   "source": [
    "_notebookFolder = 'nb-pillow-001-image-exporter'"
   ]
  },
  {
   "cell_type": "markdown",
   "metadata": {},
   "source": [
    "## Load games"
   ]
  },
  {
   "cell_type": "code",
   "execution_count": 7,
   "metadata": {},
   "outputs": [
    {
     "data": {
      "text/plain": [
       "14"
      ]
     },
     "execution_count": 7,
     "metadata": {},
     "output_type": "execute_result"
    }
   ],
   "source": [
    "listGames = []\n",
    "\n",
    "pgnFileName = 'sicilian-def_lines-export.pgn' #*define\n",
    "\n",
    "lessonDir = 'sicilian-def'\n",
    "\n",
    "pgnPath = os.path.join( #*define\n",
    "    dirUniverse,\n",
    "    'lessons',\n",
    "    pgnFileName\n",
    ")\n",
    "\n",
    "with open(pgnPath) as f:\n",
    "    while True:\n",
    "        game = chess.pgn.read_game(f)\n",
    "        if game is None:\n",
    "            break\n",
    "        listGames.append(game)\n",
    "        \n",
    "len(listGames)"
   ]
  },
  {
   "cell_type": "markdown",
   "metadata": {},
   "source": [
    "# Variant: All in one"
   ]
  },
  {
   "cell_type": "code",
   "execution_count": 8,
   "metadata": {},
   "outputs": [
    {
     "name": "stdout",
     "output_type": "stream",
     "text": [
      "C:\\Users\\Chema\\Documents\\+code\\data-wakes_chess\\notebook-output\\nb-pillow-001-image-exporter\\lessons\\sicilian-def\\0-1_sicilian-def_clasic\n",
      "C:\\Users\\Chema\\Documents\\+code\\data-wakes_chess\\notebook-output\\nb-pillow-001-image-exporter\\lessons\\sicilian-def\\1-1_sicilian-def_scheveningen\n",
      "C:\\Users\\Chema\\Documents\\+code\\data-wakes_chess\\notebook-output\\nb-pillow-001-image-exporter\\lessons\\sicilian-def\\2-1_sicilian-def_dragon\n",
      "C:\\Users\\Chema\\Documents\\+code\\data-wakes_chess\\notebook-output\\nb-pillow-001-image-exporter\\lessons\\sicilian-def\\3-1_sicilian-def_najdorf\n",
      "C:\\Users\\Chema\\Documents\\+code\\data-wakes_chess\\notebook-output\\nb-pillow-001-image-exporter\\lessons\\sicilian-def\\4-1_sicilian-def_pelikan\n",
      "C:\\Users\\Chema\\Documents\\+code\\data-wakes_chess\\notebook-output\\nb-pillow-001-image-exporter\\lessons\\sicilian-def\\5-0_sicilian-def_main\n",
      "C:\\Users\\Chema\\Documents\\+code\\data-wakes_chess\\notebook-output\\nb-pillow-001-image-exporter\\lessons\\sicilian-def\\6-2_sicilian-def_gambit-1\n",
      "C:\\Users\\Chema\\Documents\\+code\\data-wakes_chess\\notebook-output\\nb-pillow-001-image-exporter\\lessons\\sicilian-def\\7-2_sicilian-def_gambit-0\n",
      "C:\\Users\\Chema\\Documents\\+code\\data-wakes_chess\\notebook-output\\nb-pillow-001-image-exporter\\lessons\\sicilian-def\\8-2_sicilian-def_gambit-1.1\n",
      "C:\\Users\\Chema\\Documents\\+code\\data-wakes_chess\\notebook-output\\nb-pillow-001-image-exporter\\lessons\\sicilian-def\\9-2_sicilian-def_gambit-1.2\n",
      "C:\\Users\\Chema\\Documents\\+code\\data-wakes_chess\\notebook-output\\nb-pillow-001-image-exporter\\lessons\\sicilian-def\\10-2_sicilian-def_gambit-1.3\n",
      "C:\\Users\\Chema\\Documents\\+code\\data-wakes_chess\\notebook-output\\nb-pillow-001-image-exporter\\lessons\\sicilian-def\\11-2_sicilian-def_gambit-1.4\n",
      "C:\\Users\\Chema\\Documents\\+code\\data-wakes_chess\\notebook-output\\nb-pillow-001-image-exporter\\lessons\\sicilian-def\\12-2_sicilian-def_gambit-2\n",
      "C:\\Users\\Chema\\Documents\\+code\\data-wakes_chess\\notebook-output\\nb-pillow-001-image-exporter\\lessons\\sicilian-def\\13-2_sicilian-def_gambit-3\n"
     ]
    }
   ],
   "source": [
    "# all in one\n",
    "for gameIdx, gameName in enumerate(listGames):\n",
    "    #1\n",
    "    game = listGames[gameIdx] \n",
    "    Moves = utilsChess.createNodeFlagList(game)\n",
    "\n",
    "    #2\n",
    "    exportBaseFileName = f'{gameIdx}-{game.headers[\"Round\"]}_{game.headers[\"Event\"]}' #*define\n",
    "\n",
    "    productPath =  os.path.join(  #*define\n",
    "        dirNbOut,\n",
    "        _notebookFolder,\n",
    "        'lessons',\n",
    "        lessonDir,\n",
    "        exportBaseFileName\n",
    "    )\n",
    "\n",
    "    if not os.path.exists( productPath ):\n",
    "        os.makedirs( productPath )\n",
    "\n",
    "    print(productPath)\n",
    "\n",
    "\n",
    "\n",
    "    #3\n",
    "    for move in Moves:\n",
    "        map = move.board().piece_map()\n",
    "\n",
    "        options = {\n",
    "            'lastMoveFromTo':['' , move.move.uci()[2:4]],  #move.move.uci()[0:2]\n",
    "            #'isWhiteTurn': move.turn() # move._turn or move.turn() \n",
    "        }\n",
    "\n",
    "        img = utilsMapRender.draw(map, options)\n",
    "\n",
    "        colorPos = '1' if move._turn is True else '2'\n",
    "        filename = f'{exportBaseFileName}__{move._idx}.{colorPos}.jpg'\n",
    "\n",
    "        img.save( os.path.join( productPath, filename ) , \"JPEG\", quality=100)"
   ]
  },
  {
   "cell_type": "markdown",
   "metadata": {},
   "source": [
    "# Variant: single steps"
   ]
  },
  {
   "cell_type": "markdown",
   "metadata": {},
   "source": [
    "## step 1: Parse moves"
   ]
  },
  {
   "cell_type": "code",
   "execution_count": 85,
   "metadata": {},
   "outputs": [
    {
     "name": "stdout",
     "output_type": "stream",
     "text": [
      "Headers(Event='sicilian_main', Site='', Date='????.??.??', Round='0', White='', Black='', Result='*', ECO='B56a')\n"
     ]
    }
   ],
   "source": [
    " #*define\n",
    "gameIdx = 5\n",
    "\n",
    "game = listGames[gameIdx] \n",
    "print(game.headers)\n",
    "\n",
    "Moves = utilsChess.createNodeFlagList(game)"
   ]
  },
  {
   "cell_type": "markdown",
   "metadata": {},
   "source": [
    "##  step 2: Create target dir"
   ]
  },
  {
   "cell_type": "code",
   "execution_count": 86,
   "metadata": {},
   "outputs": [
    {
     "name": "stdout",
     "output_type": "stream",
     "text": [
      "C:\\Users\\Chema\\Documents\\+code\\data-wakes_chess\\notebook-output\\nb-pillow-001-image-exporter\\lessons\\sicilian-def\\5-0_sicilian_main\n"
     ]
    }
   ],
   "source": [
    "exportBaseFileName = f'{gameIdx}-{game.headers[\"Round\"]}_{game.headers[\"Event\"]}' #*define\n",
    "\n",
    "\n",
    "# var: pgnFileName\n",
    "\n",
    "productPath =  os.path.join(  #*define\n",
    "    dirNbOut,\n",
    "    _notebookFolder,\n",
    "    'lessons',\n",
    "    lessonDir,\n",
    "    exportBaseFileName\n",
    ")\n",
    "\n",
    "if not os.path.exists( productPath ):\n",
    "    os.makedirs( productPath )\n",
    "    \n",
    "print(productPath)"
   ]
  },
  {
   "cell_type": "markdown",
   "metadata": {},
   "source": [
    "##  step 3: Export moves to images"
   ]
  },
  {
   "cell_type": "code",
   "execution_count": 87,
   "metadata": {},
   "outputs": [],
   "source": [
    "for move in Moves:\n",
    "    map = move.board().piece_map()\n",
    "\n",
    "    options = {\n",
    "        'lastMoveFromTo':['' , move.move.uci()[2:4]],  #move.move.uci()[0:2]\n",
    "        #'isWhiteTurn': move.turn() # move._turn or move.turn() \n",
    "    }\n",
    "\n",
    "    img = utilsMapRender.draw(map, options)\n",
    "\n",
    "    colorPos = '1' if move._turn is True else '2'\n",
    "    filename = f'{exportBaseFileName}__{move._idx}.{colorPos}.jpg'\n",
    "\n",
    "    img.save( os.path.join( productPath, filename ) , \"JPEG\", quality=100)"
   ]
  },
  {
   "cell_type": "markdown",
   "metadata": {},
   "source": [
    "# Debug"
   ]
  },
  {
   "cell_type": "code",
   "execution_count": 97,
   "metadata": {
    "slideshow": {
     "slide_type": "skip"
    }
   },
   "outputs": [],
   "source": [
    "## example: see utility Class '/shared/util_chess.ipynb'\n",
    "# move = Moves[0]\n",
    "# # move._turn #  -> who moved ;  Different to python-chess   move.turn() -> who is next \n",
    "\n",
    "# map = move.board().piece_map()\n",
    "# print(map)\n",
    "# print(move.move.uci()[0:2] , move.move.uci()[2:4])\n",
    "# options = {\n",
    "#     'lastMoveFromTo':[move.move.uci()[0:2] , move.move.uci()[2:4]],  #move.move.uci()[0:2]\n",
    "#     #'isWhiteTurn': move.turn() # move._turn or move.turn() \n",
    "# }\n",
    "\n",
    "# img = utilsMapRender.draw(map, options)\n",
    "\n",
    "# img"
   ]
  },
  {
   "cell_type": "code",
   "execution_count": null,
   "metadata": {},
   "outputs": [],
   "source": []
  }
 ],
 "metadata": {
  "kernelspec": {
   "display_name": "Python 3",
   "language": "python",
   "name": "python3"
  },
  "language_info": {
   "codemirror_mode": {
    "name": "ipython",
    "version": 3
   },
   "file_extension": ".py",
   "mimetype": "text/x-python",
   "name": "python",
   "nbconvert_exporter": "python",
   "pygments_lexer": "ipython3",
   "version": "3.7.1"
  }
 },
 "nbformat": 4,
 "nbformat_minor": 2
}
