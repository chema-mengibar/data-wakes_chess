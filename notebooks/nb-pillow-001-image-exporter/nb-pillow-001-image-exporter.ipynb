{
 "cells": [
  {
   "cell_type": "code",
   "execution_count": 1,
   "metadata": {},
   "outputs": [],
   "source": [
    "import os\n",
    "import sys\n",
    "import chess.pgn\n",
    "\n",
    "sys.path.append('../../lib/')\n",
    "from router import getPath"
   ]
  },
  {
   "cell_type": "code",
   "execution_count": 138,
   "metadata": {},
   "outputs": [],
   "source": [
    "%run ../shared/util_chess.ipynb\n",
    "%run ../shared/util_mapRender.ipynb"
   ]
  },
  {
   "cell_type": "code",
   "execution_count": 139,
   "metadata": {},
   "outputs": [],
   "source": [
    "utilsChess = UtilsChess()\n",
    "\n",
    "options = {\n",
    "    'newspaper': True,\n",
    "    'scale': 175,\n",
    "    # 'withDecorator': True\n",
    "}\n",
    "utilsMapRender = MapRender(options)"
   ]
  },
  {
   "cell_type": "code",
   "execution_count": 6,
   "metadata": {},
   "outputs": [],
   "source": [
    "dirUniverse = getPath('universe')\n",
    "dirMaster = getPath('master')"
   ]
  },
  {
   "cell_type": "code",
   "execution_count": 7,
   "metadata": {},
   "outputs": [],
   "source": [
    "_notebookFolder = 'nb-pillow-001-image-exporter'"
   ]
  },
  {
   "cell_type": "markdown",
   "metadata": {},
   "source": [
    "## Load games"
   ]
  },
  {
   "cell_type": "code",
   "execution_count": 148,
   "metadata": {},
   "outputs": [
    {
     "data": {
      "text/plain": [
       "9"
      ]
     },
     "execution_count": 148,
     "metadata": {},
     "output_type": "execute_result"
    }
   ],
   "source": [
    "listGames = []\n",
    "\n",
    "pgnFileName = 'caro-kann_lines-export.pgn' #*define\n",
    "\n",
    "pgnPath = os.path.join( #*define\n",
    "    dirUniverse,\n",
    "    'lessons',\n",
    "    pgnFileName\n",
    ")\n",
    "\n",
    "with open(pgnPath) as f:\n",
    "    while True:\n",
    "        game = chess.pgn.read_game(f)\n",
    "        if game is None:\n",
    "            break\n",
    "        listGames.append(game)\n",
    "        \n",
    "len(listGames)"
   ]
  },
  {
   "cell_type": "code",
   "execution_count": 213,
   "metadata": {},
   "outputs": [],
   "source": [
    "game = listGames[4] #*define"
   ]
  },
  {
   "cell_type": "code",
   "execution_count": 214,
   "metadata": {},
   "outputs": [
    {
     "data": {
      "text/plain": [
       "Headers(Event='caro-kann_line-Nc3-3', Site='', Date='????.??.??', Round='1', White='', Black='', Result='*', ECO='B18p')"
      ]
     },
     "execution_count": 214,
     "metadata": {},
     "output_type": "execute_result"
    }
   ],
   "source": [
    "game.headers"
   ]
  },
  {
   "cell_type": "markdown",
   "metadata": {},
   "source": [
    "## Parse moves"
   ]
  },
  {
   "cell_type": "code",
   "execution_count": 215,
   "metadata": {},
   "outputs": [],
   "source": [
    "Moves = utilsChess.createNodeFlagList(game)"
   ]
  },
  {
   "cell_type": "markdown",
   "metadata": {},
   "source": [
    "## Create target dir"
   ]
  },
  {
   "cell_type": "code",
   "execution_count": 216,
   "metadata": {},
   "outputs": [],
   "source": [
    "exportBaseFileName = f'{game.headers[\"Round\"]}_{game.headers[\"Event\"]}' #*define"
   ]
  },
  {
   "cell_type": "code",
   "execution_count": 217,
   "metadata": {},
   "outputs": [
    {
     "name": "stdout",
     "output_type": "stream",
     "text": [
      "C:\\Users\\Chema\\Documents\\+code\\data-wakes_chess\\data\\master\\nb-pillow-001-image-exporter\\lessons\\caro-kann\\1_caro-kann_line-Nc3-3\n"
     ]
    }
   ],
   "source": [
    "# var: pgnFileName\n",
    "\n",
    "productPath =  os.path.join(  #*define\n",
    "    dirMaster,\n",
    "    _notebookFolder,\n",
    "    'lessons',\n",
    "    'caro-kann',\n",
    "    exportBaseFileName\n",
    ")\n",
    "\n",
    "if not os.path.exists( productPath ):\n",
    "    os.makedirs( productPath )\n",
    "    \n",
    "print(productPath)"
   ]
  },
  {
   "cell_type": "markdown",
   "metadata": {},
   "source": [
    "## Export moves to images"
   ]
  },
  {
   "cell_type": "code",
   "execution_count": 218,
   "metadata": {},
   "outputs": [],
   "source": [
    "# example: see utility Class '/shared/util_chess.ipynb'\n",
    "# move = Moves[0]\n",
    "# move._turn #  -> who moved ;  Different to python-chess   move.turn() -> who is next "
   ]
  },
  {
   "cell_type": "code",
   "execution_count": 219,
   "metadata": {},
   "outputs": [],
   "source": [
    "for move in Moves:\n",
    "    map = move.board().piece_map()\n",
    "\n",
    "    options = {\n",
    "        # 'lastMoveFromTo':[move.move.uci()[0:2], move.move.uci()[2:4]],\n",
    "        #'isWhiteTurn': move.turn() # move._turn or move.turn() \n",
    "    }\n",
    "\n",
    "    img = utilsMapRender.draw(map, options)\n",
    "\n",
    "    colorPos = '1' if move._turn is True else '2'\n",
    "    filename = f'{exportBaseFileName}__{move._idx}.{colorPos}.jpg'\n",
    "\n",
    "    img.save( os.path.join( productPath, filename ) , \"JPEG\", quality=100)"
   ]
  }
 ],
 "metadata": {
  "kernelspec": {
   "display_name": "Python 3",
   "language": "python",
   "name": "python3"
  },
  "language_info": {
   "codemirror_mode": {
    "name": "ipython",
    "version": 3
   },
   "file_extension": ".py",
   "mimetype": "text/x-python",
   "name": "python",
   "nbconvert_exporter": "python",
   "pygments_lexer": "ipython3",
   "version": "3.7.1"
  }
 },
 "nbformat": 4,
 "nbformat_minor": 2
}
