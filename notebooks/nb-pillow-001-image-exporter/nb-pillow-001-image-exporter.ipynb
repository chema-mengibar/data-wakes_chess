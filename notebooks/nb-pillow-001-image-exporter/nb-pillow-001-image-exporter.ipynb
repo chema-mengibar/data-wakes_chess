{
 "cells": [
  {
   "cell_type": "code",
   "execution_count": 331,
   "metadata": {},
   "outputs": [],
   "source": [
    "import os\n",
    "import sys\n",
    "import chess.pgn\n",
    "\n",
    "sys.path.append('../../lib/')\n",
    "from router import getPath"
   ]
  },
  {
   "cell_type": "code",
   "execution_count": 324,
   "metadata": {},
   "outputs": [],
   "source": [
    "%run ../shared/util_chess.ipynb\n",
    "%run ../shared/util_mapRender.ipynb"
   ]
  },
  {
   "cell_type": "code",
   "execution_count": 349,
   "metadata": {},
   "outputs": [],
   "source": [
    "utilsChess = UtilsChess()\n",
    "\n",
    "options = {\n",
    "    'newspaper': False\n",
    "}\n",
    "utilsMapRender = MapRender(options)"
   ]
  },
  {
   "cell_type": "code",
   "execution_count": 334,
   "metadata": {},
   "outputs": [],
   "source": [
    "dirUniverse = getPath('universe')\n",
    "dirMaster = getPath('master')"
   ]
  },
  {
   "cell_type": "code",
   "execution_count": 335,
   "metadata": {},
   "outputs": [],
   "source": [
    "_notebookFolder = 'nb-pillow-001-image-exporter'"
   ]
  },
  {
   "cell_type": "code",
   "execution_count": 337,
   "metadata": {},
   "outputs": [],
   "source": [
    "# load pgn\n",
    "\n",
    "pgnFileName = '2021.07.24_Carlsen-Wojtaszek.pgn'\n",
    "\n",
    "pgnPath = os.path.join( \n",
    "    dirUniverse,\n",
    "    'pgn-to-export',\n",
    "    pgnFileName\n",
    ")\n",
    "\n",
    "with open(pgnPath) as f:\n",
    "    game = chess.pgn.read_game(f)"
   ]
  },
  {
   "cell_type": "code",
   "execution_count": 338,
   "metadata": {},
   "outputs": [],
   "source": [
    "Moves = utilsChess.createNodeFlagList(game)"
   ]
  },
  {
   "cell_type": "markdown",
   "metadata": {},
   "source": [
    "## Target dir"
   ]
  },
  {
   "cell_type": "code",
   "execution_count": 350,
   "metadata": {},
   "outputs": [],
   "source": [
    "productPath =  os.path.join( \n",
    "    dirMaster,\n",
    "    _notebookFolder,\n",
    "    pgnFileName,\n",
    "    'color'\n",
    ")\n",
    "\n",
    "\n",
    "if not os.path.exists( productPath ):\n",
    "    os.makedirs( productPath )"
   ]
  },
  {
   "cell_type": "markdown",
   "metadata": {},
   "source": [
    "# Run"
   ]
  },
  {
   "cell_type": "code",
   "execution_count": 346,
   "metadata": {},
   "outputs": [],
   "source": [
    "move = Moves[15]"
   ]
  },
  {
   "cell_type": "code",
   "execution_count": 347,
   "metadata": {},
   "outputs": [],
   "source": []
  },
  {
   "cell_type": "code",
   "execution_count": 351,
   "metadata": {},
   "outputs": [],
   "source": [
    "for move in Moves:\n",
    "    map = move.board().piece_map()\n",
    "\n",
    "\n",
    "    options = {\n",
    "        'lastMoveFromTo':[move.move.uci()[0:2], move.move.uci()[2:4]] \n",
    "    }\n",
    "\n",
    "    img = utilsMapRender.draw(map, options)\n",
    "\n",
    "    colorPos = '1' if move._turn is True else '2'\n",
    "    filename = f'{pgnFileName}__{move._idx}.{colorPos}-{move._color}.jpg'\n",
    "\n",
    "    img.save( os.path.join( productPath, filename ) , \"JPEG\", quality=100)"
   ]
  }
 ],
 "metadata": {
  "kernelspec": {
   "display_name": "Python 3",
   "language": "python",
   "name": "python3"
  },
  "language_info": {
   "codemirror_mode": {
    "name": "ipython",
    "version": 3
   },
   "file_extension": ".py",
   "mimetype": "text/x-python",
   "name": "python",
   "nbconvert_exporter": "python",
   "pygments_lexer": "ipython3",
   "version": "3.7.1"
  }
 },
 "nbformat": 4,
 "nbformat_minor": 2
}
