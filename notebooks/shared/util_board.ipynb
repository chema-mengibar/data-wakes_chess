{
 "cells": [
  {
   "cell_type": "code",
   "execution_count": 97,
   "metadata": {},
   "outputs": [],
   "source": [
    "from IPython.core.display import display, HTML"
   ]
  },
  {
   "cell_type": "code",
   "execution_count": 96,
   "metadata": {},
   "outputs": [],
   "source": [
    "class UtilsBoard:\n",
    "    def __init__(self, pageTitle):\n",
    "        \n",
    "        path = '../shared/util_board-assets/'\n",
    "        \n",
    "        assetsLayout = f'{path}basic-layout.html'\n",
    "        html = open(assetsLayout)    \n",
    "        self.html_layout = html.read().replace('$title',pageTitle)\n",
    "        \n",
    "        block11 = f'{path}block-1-1.html'\n",
    "        html = open(block11)    \n",
    "        self.html_block11 = html.read()\n",
    "                \n",
    "        block12 = f'{path}block-1-2.html'\n",
    "        html = open(block12)    \n",
    "        self.html_block12 = html.read()\n",
    "        \n",
    "        blocktext = f'{path}block-text.html'\n",
    "        html = open(blocktext)    \n",
    "        self.html_blocktext = html.read()\n",
    "        \n",
    "        block4x = f'{path}block-4-x.html'\n",
    "        html = open(block4x)    \n",
    "        self.html_block4x = html.read()\n",
    "        \n",
    "        cell = f'{path}cell.html'\n",
    "        html = open(cell)    \n",
    "        self.html_cell = html.read()\n",
    "        \n",
    "        row = f'{path}row.html'\n",
    "        html = open(row)    \n",
    "        self.html_row = html.read()\n",
    "        \n",
    "        self.html = ''\n",
    "        \n",
    "        self.rows = []\n",
    "\n",
    "    def addRow(self, colBlock):\n",
    "        contentRow = self.html_row.replace('$content', colBlock)\n",
    "        self.rows.append(contentRow)\n",
    "        \n",
    "    def getCell(self, content, text='' ):\n",
    "        return self.html_cell.replace('$content', content).replace('$text', text)\n",
    "\n",
    "    \n",
    "    def getBlockText(self, title, content ):\n",
    "        return self.html_blocktext.replace('$title', title).replace('$content', content)\n",
    "    \n",
    "    def getBlock4x(self, content ):\n",
    "        return self.html_block4x.replace('$content', content)\n",
    "    \n",
    "    def getBlock11(self, content1, content2):\n",
    "        return self.html_block11.replace('$1', content1).replace('$2', content2)\n",
    "    \n",
    "    def getBlock12(self, content1, content2):\n",
    "        return self.html_block12.replace('$1', content1).replace('$2', content2)\n",
    "        \n",
    "    def printHtml(self):\n",
    "        contentHtml = self.html_layout.replace('$rows', ' '.join(self.rows) )\n",
    "        self.html = contentHtml\n",
    "        display(HTML(self.html))\n",
    "    \n",
    "    def boardToSvg(self, board ):\n",
    "        boardsvg = chess.svg.board( \n",
    "            board=board, \n",
    "            size= 400,\n",
    "            coordinates = True,\n",
    "            flipped = False,\n",
    "            style= ''\n",
    "        )\n",
    "        return boardsvg\n",
    "    \n",
    "    def save(self, fileNameAndExtensionWithPath):\n",
    "        with open( fileNameAndExtensionWithPath , \"w\") as file:\n",
    "            file.write(self.html)\n",
    "        \n",
    "        \n",
    "        "
   ]
  },
  {
   "cell_type": "code",
   "execution_count": 94,
   "metadata": {},
   "outputs": [],
   "source": [
    "# UtilsBoard = UtilsBoard()"
   ]
  },
  {
   "cell_type": "code",
   "execution_count": 95,
   "metadata": {
    "scrolled": true
   },
   "outputs": [
    {
     "data": {
      "text/plain": [
       "\"\\nimport chess\\nimport chess.pgn\\nimport chess.engine\\nfrom stockfish import Stockfish\\nimport copy\\nfrom IPython.display import display\\nimport math\\n\\n\\n\\nutilsBoard = UtilsBoard('Page Title')\\n\\nfen = 'rnbqkb1r/pp3ppp/8/3np3/8/2NP1N2/PP3PPP/R1BQKB1R b KQkq - 0 1'\\nboard  = chess.Board(fen)\\nboardSvg1 = utilsBoard.boardToSvg(board)\\nblock12_temp = utilsBoard.getBlock12('Example', boardSvg1)\\nutilsBoard.addRow(block12_temp)\\n\\n\\nboardSvg2 = utilsBoard.boardToSvg(board)\\ncell1 = utilsBoard.getCell(boardSvg2, 'Mira')\\ncells = ' '.join([cell1,cell1,cell1,cell1,cell1,cell1,cell1,cell1,cell1,cell1,cell1])\\nblock4x_temp = utilsBoard.getBlock4x( cells )\\nutilsBoard.addRow(block4x_temp)\\n\\n\\nblocktext_temp = utilsBoard.getBlockText('Example', 'Lorem ipsum')\\nutilsBoard.addRow(blocktext_temp)\\n\\nblock11_temp = utilsBoard.getBlock11('Example', boardSvg1)\\nutilsBoard.addRow(block11_temp)\\n\\n\\nutilsBoard.printHtml()\\n\\nutilsBoard.save('example.html')\\n\""
      ]
     },
     "execution_count": 95,
     "metadata": {},
     "output_type": "execute_result"
    }
   ],
   "source": [
    "'''\n",
    "import chess\n",
    "import chess.pgn\n",
    "import chess.engine\n",
    "from stockfish import Stockfish\n",
    "import copy\n",
    "from IPython.display import display\n",
    "import math\n",
    "\n",
    "\n",
    "\n",
    "utilsBoard = UtilsBoard('Page Title')\n",
    "\n",
    "fen = 'rnbqkb1r/pp3ppp/8/3np3/8/2NP1N2/PP3PPP/R1BQKB1R b KQkq - 0 1'\n",
    "board  = chess.Board(fen)\n",
    "boardSvg1 = utilsBoard.boardToSvg(board)\n",
    "block12_temp = utilsBoard.getBlock12('Example', boardSvg1)\n",
    "utilsBoard.addRow(block12_temp)\n",
    "\n",
    "\n",
    "boardSvg2 = utilsBoard.boardToSvg(board)\n",
    "cell1 = utilsBoard.getCell(boardSvg2, 'Mira')\n",
    "cells = ' '.join([cell1,cell1,cell1,cell1,cell1,cell1,cell1,cell1,cell1,cell1,cell1])\n",
    "block4x_temp = utilsBoard.getBlock4x( cells )\n",
    "utilsBoard.addRow(block4x_temp)\n",
    "\n",
    "\n",
    "blocktext_temp = utilsBoard.getBlockText('Example', 'Lorem ipsum')\n",
    "utilsBoard.addRow(blocktext_temp)\n",
    "\n",
    "block11_temp = utilsBoard.getBlock11('Example', boardSvg1)\n",
    "utilsBoard.addRow(block11_temp)\n",
    "\n",
    "\n",
    "utilsBoard.printHtml()\n",
    "\n",
    "utilsBoard.save('example.html')\n",
    "'''"
   ]
  },
  {
   "cell_type": "markdown",
   "metadata": {},
   "source": [
    "### Usage in notebook\n",
    "\n",
    "```\n",
    "%run ../shared/util_board.ipynb\n",
    "```"
   ]
  }
 ],
 "metadata": {
  "kernelspec": {
   "display_name": "Python 3",
   "language": "python",
   "name": "python3"
  },
  "language_info": {
   "codemirror_mode": {
    "name": "ipython",
    "version": 3
   },
   "file_extension": ".py",
   "mimetype": "text/x-python",
   "name": "python",
   "nbconvert_exporter": "python",
   "pygments_lexer": "ipython3",
   "version": "3.7.1"
  }
 },
 "nbformat": 4,
 "nbformat_minor": 2
}
