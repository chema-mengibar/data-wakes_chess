{
 "cells": [
  {
   "cell_type": "code",
   "execution_count": 45,
   "metadata": {},
   "outputs": [],
   "source": [
    "from IPython.core.display import display, HTML\n",
    "import os\n",
    "import chess\n",
    "import chess.pgn"
   ]
  },
  {
   "cell_type": "code",
   "execution_count": 46,
   "metadata": {},
   "outputs": [],
   "source": [
    " boardColors = {\n",
    "        'square dark': '#b0cae1',\n",
    "        'square light': '#ffffff',\n",
    "        'square light lastmove': '#f7ba48',\n",
    "        'square dark lastmove': '#f7ba48',\n",
    "        'margin': '#dedede',\n",
    "        'coord': '#888888',\n",
    "        'arrow green': '#05ff61',\n",
    "        'arrow blue': '#00a2c7',\n",
    "        'arrow red': '#c90028',\n",
    "        'arrow yellow': '#c78800',\n",
    "    }"
   ]
  },
  {
   "cell_type": "code",
   "execution_count": 50,
   "metadata": {},
   "outputs": [],
   "source": [
    "class UtilsBoard:\n",
    "    def __init__(self, pageTitle):\n",
    "        \n",
    "        path = '../shared/util_board-assets/' # path from notebooks\n",
    "        \n",
    "        assetsLayout = f'{path}basic-layout.html'\n",
    "        html = open(assetsLayout)    \n",
    "        self.html_layout = html.read().replace('$title',pageTitle)\n",
    "        \n",
    "        block11 = f'{path}block-1-1.html'\n",
    "        html = open(block11)    \n",
    "        self.html_block11 = html.read()\n",
    "                \n",
    "        block12 = f'{path}block-1-2.html'\n",
    "        html = open(block12)    \n",
    "        self.html_block12 = html.read()\n",
    "        \n",
    "        blocktext = f'{path}block-text.html'\n",
    "        html = open(blocktext)    \n",
    "        self.html_blocktext = html.read()\n",
    "        \n",
    "        block4x = f'{path}block-4-x.html'\n",
    "        html = open(block4x)    \n",
    "        self.html_block4x = html.read()\n",
    "        \n",
    "        cell = f'{path}cell.html'\n",
    "        html = open(cell)    \n",
    "        self.html_cell = html.read()\n",
    "        \n",
    "        row = f'{path}row.html'\n",
    "        html = open(row)    \n",
    "        self.html_row = html.read()\n",
    "        \n",
    "        self.html = ''\n",
    "        \n",
    "        self.rows = []\n",
    "\n",
    "    def addRow(self, colBlock):\n",
    "        contentRow = self.html_row.replace('$content', colBlock)\n",
    "        self.rows.append(contentRow)\n",
    "    \n",
    "    def resetRows(self):\n",
    "        self.rows = []\n",
    "        \n",
    "    def getCell(self, content, text='' ):\n",
    "        return self.html_cell.replace('$content', content).replace('$text', text)\n",
    "\n",
    "    \n",
    "    def getBlockText(self, title, content ):\n",
    "        return self.html_blocktext.replace('$title', title).replace('$content', content)\n",
    "    \n",
    "    def getBlock4x(self, content ):\n",
    "        return self.html_block4x.replace('$content', content)\n",
    "    \n",
    "    def getBlock11(self, content1, content2):\n",
    "        return self.html_block11.replace('$1', content1).replace('$2', content2)\n",
    "    \n",
    "    def getBlock12(self, content1, content2):\n",
    "        return self.html_block12.replace('$1', content1).replace('$2', content2)\n",
    "        \n",
    "    def printHtml(self):\n",
    "        contentHtml = self.html_layout.replace('$rows', ' '.join(self.rows) )\n",
    "        self.html = contentHtml\n",
    "        display(HTML(self.html))\n",
    "    \n",
    "    def mapArrows( self, listArrows ):\n",
    "        '''\n",
    "        Helper methode for svg arrow parameter.\n",
    "        Returns a list of chess arrows with chess.squares (from,to) and color\n",
    "        @listArrows: list of listArrow>[cellFrom:string, cellTo:string, colorLetter:string]\n",
    "\n",
    "        Usage:\n",
    "        arrows([['a3','d5','r']) >> [Arrow(A3, D5, color='red')]\n",
    "        '''\n",
    "        arrows = []\n",
    "        if len(listArrows) == 0:\n",
    "            return [] \n",
    "        for arrow in listArrows:\n",
    "            squeareFrom = chess.parse_square(arrow[0])\n",
    "            squeareTo = chess.parse_square(arrow[1])\n",
    "            if arrow[2] == 'g':\n",
    "                color = 'green'\n",
    "            elif arrow[2] == 'y':\n",
    "                color = 'yellow'\n",
    "            elif arrow[2] == 'b':\n",
    "                color = 'blue'\n",
    "            else:\n",
    "                color = 'red'\n",
    "            arrows.append( chess.svg.Arrow(squeareFrom, squeareTo, color=color) )\n",
    "        return arrows\n",
    "    \n",
    "    def mapCellsToSquare(self, listCells ):\n",
    "        if len(listCells) == 0:\n",
    "            return [] \n",
    "        listCellsMapped = [ chess.parse_square(cell) for cell in listCells ]\n",
    "        return chess.SquareSet(listCellsMapped)\n",
    "        \n",
    "    def mapMove( self, listCells ):\n",
    "        if len(listCells) == 0:\n",
    "            return [] \n",
    "        squeareFrom = chess.parse_square(listCells[0])\n",
    "        squeareTo = chess.parse_square(listCells[1])\n",
    "        return chess.Move(squeareFrom, squeareTo)\n",
    "    \n",
    "    def uciToMove(self, uciCells):\n",
    "        '''\n",
    "        Convert a string uci notation \"e2e4\" to chess.Move()\n",
    "        @uciCells : string\n",
    "        '''\n",
    "        squeareFrom= chess.parse_square(uciCells[0:1])\n",
    "        squeareTo= chess.parse_square(uciCells[2:3])\n",
    "        return chess.Move(squeareFrom, squeareTo)\n",
    "    \n",
    "    def uciToList(self, uciCells):\n",
    "        '''\n",
    "        Convert a string uci notation \"e2e4\" to string[]\n",
    "        @uciCells : string\n",
    "        '''\n",
    "        return [ uciCells[0:2], uciCells[2:4]]\n",
    "    \n",
    "    def boardToSvg(self, board, _arrows=[], _lastmove=[], _squares=[], **kwargs ):\n",
    "        \n",
    "        _flipped = False\n",
    "        if 'flipped' in kwargs:\n",
    "            _flipped = kwargs.get(\"flipped\")\n",
    "        \n",
    "            \n",
    "        _check = None\n",
    "        if 'check' in kwargs:\n",
    "            _check = kwargs.get(\"check\")\n",
    "        \n",
    "        boardsvg = chess.svg.board( \n",
    "            board=board, \n",
    "            size= 400,\n",
    "            coordinates = True,\n",
    "            flipped = _flipped,\n",
    "            colors=boardColors,\n",
    "            style= '',\n",
    "            arrows= self.mapArrows(_arrows),\n",
    "            lastmove = self.mapMove(_lastmove),\n",
    "            squares = self.mapCellsToSquare(_squares),\n",
    "            check = _check\n",
    "        )\n",
    "        return boardsvg\n",
    "    \n",
    "    def save(self, outputPath, fileNameWithExt):\n",
    "        if not os.path.exists( outputPath ):\n",
    "            os.makedirs( outputPath )\n",
    "        with open( os.path.join(outputPath, fileNameWithExt) , \"w\") as file:\n",
    "            file.write(self.html)\n",
    "        \n",
    "        \n",
    "        "
   ]
  },
  {
   "cell_type": "markdown",
   "metadata": {},
   "source": [
    "# Class Usage"
   ]
  },
  {
   "cell_type": "code",
   "execution_count": 35,
   "metadata": {},
   "outputs": [],
   "source": [
    "# UtilsBoard = UtilsBoard()"
   ]
  },
  {
   "cell_type": "code",
   "execution_count": 36,
   "metadata": {
    "scrolled": true
   },
   "outputs": [
    {
     "data": {
      "text/plain": [
       "\"\\nimport chess\\nimport chess.pgn\\nimport chess.engine\\nfrom stockfish import Stockfish\\nimport copy\\nfrom IPython.display import display\\n\\n\\nutilsBoard = UtilsBoard('Page Title')\\n\\n\\nfen = 'rnbqkb1r/pp3ppp/8/3np3/8/2NP1N2/PP3PPP/R1BQKB1R b KQkq - 0 1'\\nboard  = chess.Board(fen)\\nboardSvg1 = utilsBoard.boardToSvg(board)\\nblock12_temp = utilsBoard.getBlock12('Example', boardSvg1)\\nutilsBoard.addRow(block12_temp)\\n\\n\\nboardSvg2 = utilsBoard.boardToSvg(board)\\ncell1 = utilsBoard.getCell(boardSvg2, 'Mira')\\ncells = ' '.join([cell1,cell1,cell1,cell1,cell1,cell1,cell1,cell1,cell1,cell1,cell1])\\nblock4x_temp = utilsBoard.getBlock4x( cells )\\nutilsBoard.addRow(block4x_temp)\\n\\n\\nblocktext_temp = utilsBoard.getBlockText('Example', 'Lorem ipsum')\\nutilsBoard.addRow(blocktext_temp)\\n\\nblock11_temp = utilsBoard.getBlock11('Example', boardSvg1)\\nutilsBoard.addRow(block11_temp)\\n\\n\\nutilsBoard.printHtml()\\n\\nutilsBoard.save('example.html')\\n\""
      ]
     },
     "execution_count": 36,
     "metadata": {},
     "output_type": "execute_result"
    }
   ],
   "source": [
    "'''\n",
    "import chess\n",
    "import chess.pgn\n",
    "import chess.engine\n",
    "from stockfish import Stockfish\n",
    "import copy\n",
    "from IPython.display import display\n",
    "\n",
    "\n",
    "utilsBoard = UtilsBoard('Page Title')\n",
    "\n",
    "\n",
    "fen = 'rnbqkb1r/pp3ppp/8/3np3/8/2NP1N2/PP3PPP/R1BQKB1R b KQkq - 0 1'\n",
    "board  = chess.Board(fen)\n",
    "boardSvg1 = utilsBoard.boardToSvg(board, _arrows=[['a3','d5','g']] )\n",
    "block12_temp = utilsBoard.getBlock12('Example', boardSvg1)\n",
    "utilsBoard.addRow(block12_temp)\n",
    "\n",
    "\n",
    "boardSvg2 = utilsBoard.boardToSvg(board)\n",
    "cell1 = utilsBoard.getCell(boardSvg2, 'Mira')\n",
    "cells = ' '.join([cell1,cell1,cell1,cell1,cell1,cell1,cell1,cell1,cell1,cell1,cell1])\n",
    "block4x_temp = utilsBoard.getBlock4x( cells )\n",
    "utilsBoard.addRow(block4x_temp)\n",
    "\n",
    "\n",
    "blocktext_temp = utilsBoard.getBlockText('Example', 'Lorem ipsum')\n",
    "utilsBoard.addRow(blocktext_temp)\n",
    "\n",
    "block11_temp = utilsBoard.getBlock11('Example', boardSvg1)\n",
    "utilsBoard.addRow(block11_temp)\n",
    "\n",
    "\n",
    "utilsBoard.printHtml()\n",
    "\n",
    "utilsBoard.save(f'../../report/{_notebookFolder}','base.html')\n",
    "'''"
   ]
  },
  {
   "cell_type": "markdown",
   "metadata": {},
   "source": [
    "# Draw SVG arguments"
   ]
  },
  {
   "cell_type": "markdown",
   "metadata": {},
   "source": [
    "### Last Movement: squares colored"
   ]
  },
  {
   "cell_type": "code",
   "execution_count": 20,
   "metadata": {},
   "outputs": [],
   "source": [
    "lastmove = chess.Move(chess.G1, chess.F3),"
   ]
  },
  {
   "cell_type": "markdown",
   "metadata": {},
   "source": [
    "### Check :  red mark in square"
   ]
  },
  {
   "cell_type": "code",
   "execution_count": 21,
   "metadata": {},
   "outputs": [],
   "source": [
    "check  = chess.F3,"
   ]
  },
  {
   "cell_type": "markdown",
   "metadata": {},
   "source": [
    "### X icon"
   ]
  },
  {
   "cell_type": "code",
   "execution_count": 22,
   "metadata": {},
   "outputs": [],
   "source": [
    "squares = chess.SquareSet([chess.A8, chess.A1]),"
   ]
  },
  {
   "cell_type": "markdown",
   "metadata": {},
   "source": [
    "### Arrows"
   ]
  },
  {
   "cell_type": "code",
   "execution_count": 24,
   "metadata": {},
   "outputs": [],
   "source": [
    "### arrows\n",
    "arrows=[\n",
    "    chess.svg.Arrow(chess.D5, chess.D5, color=\"green\"),\n",
    "    chess.svg.Arrow(chess.D5, chess.C3, color=\"red\"),\n",
    "    chess.svg.Arrow(chess.D8, chess.A5, color=\"blue\"),\n",
    "    chess.svg.Arrow(chess.A5, chess.C3, color=\"yellow\"),\n",
    "],\n",
    "\n",
    "\n",
    "#### Circle: same square\n",
    "circle = chess.svg.Arrow(chess.D5, chess.D5, color=\"green\"),\n",
    "\n",
    "#### Red arrow\n",
    "red = chess.svg.Arrow(chess.D5, chess.C3, color=\"red\"),\n",
    "\n",
    "#### Blue Arrow\n",
    "blue = chess.svg.Arrow(chess.D8, chess.A5, color=\"blue\"),\n",
    "\n",
    "#### Yellow Arrow\n",
    "yellow = chess.svg.Arrow(chess.A5, chess.C3, color=\"yellow\"),\n"
   ]
  },
  {
   "cell_type": "markdown",
   "metadata": {},
   "source": [
    "# Import in notebook\n",
    "\n",
    "```\n",
    "%run ../shared/util_board.ipynb\n",
    "```"
   ]
  }
 ],
 "metadata": {
  "kernelspec": {
   "display_name": "Python 3",
   "language": "python",
   "name": "python3"
  },
  "language_info": {
   "codemirror_mode": {
    "name": "ipython",
    "version": 3
   },
   "file_extension": ".py",
   "mimetype": "text/x-python",
   "name": "python",
   "nbconvert_exporter": "python",
   "pygments_lexer": "ipython3",
   "version": "3.7.1"
  }
 },
 "nbformat": 4,
 "nbformat_minor": 2
}
