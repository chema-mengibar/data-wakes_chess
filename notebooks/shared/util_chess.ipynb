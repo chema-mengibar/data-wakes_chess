{
 "cells": [
  {
   "cell_type": "code",
   "execution_count": 1,
   "metadata": {},
   "outputs": [],
   "source": [
    "import math"
   ]
  },
  {
   "cell_type": "code",
   "execution_count": 2,
   "metadata": {},
   "outputs": [],
   "source": [
    "class ListPairMoves:\n",
    "    \n",
    "    def __init__(self, nodeList):\n",
    "        # Add None item if Odd list, to complete pairs\n",
    "        if (len(nodeList) % 2) != 0:\n",
    "            nodeList.append(None)\n",
    "        groupSize = 2\n",
    "        self.moves =  [nodeList[n:n+groupSize] for n in range(0, len(nodeList), groupSize)]\n",
    "\n",
    "    def getMove(self, moveNum ):\n",
    "        try:\n",
    "            return self.moves[moveNum-1] if moveNum > 0 else self.moves[-1]\n",
    "        except:\n",
    "            return 'no move'\n",
    "    \n",
    "    def getMoveW(self, moveNum ):\n",
    "        try:\n",
    "            return self.getMove(moveNum)[0] \n",
    "        except:\n",
    "            return 'no move for White'\n",
    "    \n",
    "    def getMoveB(self, moveNum ):\n",
    "        try:\n",
    "            return self.getMove(moveNum)[1] \n",
    "        except:\n",
    "            return 'no move for Black'\n",
    "        \n",
    "    def getGameLen(self):\n",
    "        return len(self.moves)"
   ]
  },
  {
   "cell_type": "code",
   "execution_count": 3,
   "metadata": {},
   "outputs": [],
   "source": [
    "class UtilsChess:\n",
    "    \n",
    "    def createNodePairsList(self, game):\n",
    "        '''\n",
    "        Create a list of pair on game Nodes\n",
    "        @game: result of impot pgn -> chess.pgn.read_game(pgn)\n",
    "        '''\n",
    "        nodeList = self.createNodeFlagList(game)\n",
    "        return ListPairMoves(nodeList)\n",
    "        \n",
    "    \n",
    "    def createNodeFlagList(self, game):\n",
    "        '''\n",
    "        Create a list on game Nodes\n",
    "        @game: result of impot pgn -> chess.pgn.read_game(pgn)\n",
    "        '''\n",
    "        nodes = []\n",
    "        node = game # first node is None\n",
    "        while node: # while not node.is_end():\n",
    "            if node.move:\n",
    "                node._color = self.mapTurnToColor(not node.turn())\n",
    "                node._idx = self.getNodeTurnIndex(node)\n",
    "                nodes.append(node)\n",
    "            node = node.next()\n",
    "        return nodes\n",
    "    \n",
    "    def pushToBoard(self, game):\n",
    "        '''\n",
    "        Add move from mainline in board\n",
    "        @game: result of impot pgn -> chess.pgn.read_game(pgn)\n",
    "        '''\n",
    "        board = game.board()\n",
    "        for move in game.mainline_moves():\n",
    "            ## move -> e2e4\n",
    "            board.push(move) #board.push_uci(move.uci())\n",
    "        return board\n",
    "\n",
    "    def traverseWithVariations(self, node):\n",
    "        '''\n",
    "        Not tested\n",
    "        '''\n",
    "        # do whatever stuff you want for the node here\n",
    "        print(node.move)\n",
    "        # terminating condition\n",
    "        if (node.is_end()):\n",
    "            return\n",
    "        # recursion\n",
    "        for child_node in node.variations:\n",
    "            self.traverseWithVariations(child_node)\n",
    "    \n",
    "    def getNodeTurnIndex(self, node):\n",
    "        return math.ceil(node.ply()/2)\n",
    "    \n",
    "    def mapTurnToColor(self, turn):\n",
    "        return 'WHITE' if turn else 'BLACK'\n",
    "    \n",
    "    def getNodeHelp(self, node):\n",
    "        print('node', node)\n",
    "        print('node.ply()', node.ply())\n",
    "        print('node.turn()', node.turn())\n",
    "        print('util.mapTurnToColor()', self.mapTurnToColor(node.turn()))\n",
    "        print('node.san()', node.san())\n",
    "        print('node.uci()', node.uci())\n",
    "        print('node.move()', node.move )\n",
    "        print('util.getNodeTurnIndex(node))', self.getNodeTurnIndex(node))\n",
    "\n",
    "        \n",
    "        \n",
    "        "
   ]
  },
  {
   "cell_type": "code",
   "execution_count": 4,
   "metadata": {},
   "outputs": [],
   "source": [
    "UtilsChess = UtilsChess()"
   ]
  },
  {
   "cell_type": "markdown",
   "metadata": {},
   "source": [
    "### Usage in notebook\n",
    "\n",
    "```\n",
    "%run ../shared/util_chess.ipynb\n",
    "```"
   ]
  },
  {
   "cell_type": "code",
   "execution_count": 5,
   "metadata": {},
   "outputs": [
    {
     "data": {
      "text/plain": [
       "\"\\nprint(nodes[2])\\nprint('---------')\\nprint(nodes[2].ply())\\nprint(math.ceil(nodes[2].ply()/2))\\nprint('---------')\\nprint( nodes[3].turn(), nodes[3].san(), nodes[3].uci(), nodes[3].move)\\nprint('---------')\\nprint(nodes[3].board())\\n\""
      ]
     },
     "execution_count": 5,
     "metadata": {},
     "output_type": "execute_result"
    }
   ],
   "source": [
    "'''\n",
    "print(nodes[2])\n",
    "print('---------')\n",
    "print(nodes[2].ply())\n",
    "print(math.ceil(nodes[2].ply()/2))\n",
    "print('---------')\n",
    "print( nodes[3].turn(), nodes[3].san(), nodes[3].uci(), nodes[3].move)\n",
    "print('---------')\n",
    "print(nodes[3].board())\n",
    "'''"
   ]
  }
 ],
 "metadata": {
  "kernelspec": {
   "display_name": "Python 3",
   "language": "python",
   "name": "python3"
  },
  "language_info": {
   "codemirror_mode": {
    "name": "ipython",
    "version": 3
   },
   "file_extension": ".py",
   "mimetype": "text/x-python",
   "name": "python",
   "nbconvert_exporter": "python",
   "pygments_lexer": "ipython3",
   "version": "3.7.1"
  }
 },
 "nbformat": 4,
 "nbformat_minor": 2
}
