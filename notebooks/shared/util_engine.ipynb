{
 "cells": [
  {
   "cell_type": "code",
   "execution_count": 11,
   "metadata": {},
   "outputs": [],
   "source": [
    "import chess\n",
    "import chess.pgn\n",
    "import chess.engine\n",
    "from stockfish import Stockfish\n",
    "import copy\n",
    "from IPython.display import display\n",
    "import pandas as pd"
   ]
  },
  {
   "cell_type": "code",
   "execution_count": 4,
   "metadata": {},
   "outputs": [],
   "source": [
    "def scoreToInt( score ):\n",
    "    t = str(score) #resultAnalyse[\"score\"].pov( colorBool )\n",
    "    return round(int(t)/100.,2)"
   ]
  },
  {
   "cell_type": "code",
   "execution_count": 2,
   "metadata": {},
   "outputs": [],
   "source": [
    "class UtilsEngine:\n",
    "\n",
    "    def __init__(self ):\n",
    "        self.engine = chess.engine.SimpleEngine.popen_uci(\"../shared/stockfish_12_win_x64/stockfish_20090216_x64\")\n",
    "    \n",
    "    def engine(self):\n",
    "        return self.engine\n",
    "    \n",
    "    def analyse(self, board):\n",
    "        return self.engine.analyse( board , chess.engine.Limit(time=0.75)) #params ..Limit(depth=20) // time=0.75\n",
    "    \n",
    "    def score(self, board, colorBool= True ):\n",
    "        resultAnalyse = self.analyse(board)\n",
    "        return scoreToInt(resultAnalyse[\"score\"].pov( colorBool )) # point of view score, white>True\n",
    "\n",
    "    def showLine(self, board):\n",
    "        analysis = self.engine.analysis(board)\n",
    "        for info in analysis:\n",
    "            print(info.get(\"score\"), info.get(\"pv\"))\n",
    "            if info.get(\"seldepth\", 0) > 5:\n",
    "                break\n",
    "    \n",
    "    def top(self, board):\n",
    "        infoMultiVariant = self.engine.analyse( board , chess.engine.Limit(time=0.3), multipv=3 )\n",
    "        return [ f\"{variant['pv'][0]}→{scoreToInt(variant['score'].pov(board.turn))}\" for variant in infoMultiVariant]\n",
    "    \n",
    "    def topList(self, board):\n",
    "        infoMultiVariant = self.engine.analyse( board , chess.engine.Limit(time=0.3), multipv=3 )\n",
    "        return [ [str(variant['pv'][0])[0:2], str(variant['pv'][0])[2:4], scoreToInt(variant['score'].pov(board.turn))] for variant in infoMultiVariant]\n",
    "\n",
    "    def typeMove(self, score1, score2, isWhite):\n",
    "        movedColor = True\n",
    "        dif = abs(score1-score2)\n",
    "        advantageWhite = (score2 > 0)\n",
    "        if isWhite is not advantageWhite:\n",
    "            accuracy = ''\n",
    "            if dif < 1:\n",
    "                accuracy = 'inaccuracy'\n",
    "            elif dif >= 1 and dif < 2:\n",
    "                accuracy = 'mistake'\n",
    "            else:\n",
    "                accuracy = 'blunder'\n",
    "            return(f'error: {accuracy}')\n",
    "        else:\n",
    "            return('ok')\n",
    "                \n",
    "    def options(self, board):\n",
    "        '''\n",
    "        return sorted data frame with best moves\n",
    "        '''\n",
    "        if board.turn: \n",
    "            print('White to move')\n",
    "        else: \n",
    "            print('Black to move')\n",
    "        movesData = []\n",
    "        for el in board.legal_moves:\n",
    "            info = self.engine.analyse(board, chess.engine.Limit(time=0.2), root_moves=[el])\n",
    "            t = str(info[\"score\"].pov(board.turn))\n",
    "            if not t.startswith('#'): # if is not MATE: print(str(board.san(el)),\" eval = mate in \", t)\n",
    "                moveRowData = [el, board.san(el), round(int(t)/100.,2) ]\n",
    "                movesData.append(moveRowData)\n",
    "                # print( el, str(board.san(el)),\" eval = \", round(int(t)/100.,2))\n",
    "        dfMoves = pd.DataFrame.from_records(movesData, columns=['move_cells', 'move_san', 'score'])\n",
    "        return dfMoves.sort_values(by=['score'], ascending=False)\n",
    "\n",
    "        "
   ]
  },
  {
   "cell_type": "code",
   "execution_count": 7,
   "metadata": {},
   "outputs": [],
   "source": [
    "utilsEngine = UtilsEngine()"
   ]
  },
  {
   "cell_type": "code",
   "execution_count": 28,
   "metadata": {},
   "outputs": [
    {
     "data": {
      "text/plain": [
       "'ok'"
      ]
     },
     "execution_count": 28,
     "metadata": {},
     "output_type": "execute_result"
    }
   ],
   "source": [
    "def typeMove( score1, score2, isWhite):\n",
    "        movedColor = True\n",
    "        dif = abs(score1-score2)\n",
    "        advantageWhite = (score2 > 0)\n",
    "        if isWhite is not advantageWhite:\n",
    "            accuracy = ''\n",
    "            if dif < 1:\n",
    "                accuracy = 'inaccuracy'\n",
    "            elif dif >= 1 and dif < 2:\n",
    "                accuracy = 'mistake'\n",
    "            else:\n",
    "                accuracy = 'blunder'\n",
    "            return(f'error: {accuracy}')\n",
    "        else:\n",
    "            return('ok')\n",
    "        \n",
    "typeMove( 0.43, -0.71, False)"
   ]
  },
  {
   "cell_type": "markdown",
   "metadata": {},
   "source": [
    "### Usage in notebook\n",
    "\n",
    "```\n",
    "%run ../shared/util_engine.ipynb\n",
    "```"
   ]
  }
 ],
 "metadata": {
  "kernelspec": {
   "display_name": "Python 3",
   "language": "python",
   "name": "python3"
  },
  "language_info": {
   "codemirror_mode": {
    "name": "ipython",
    "version": 3
   },
   "file_extension": ".py",
   "mimetype": "text/x-python",
   "name": "python",
   "nbconvert_exporter": "python",
   "pygments_lexer": "ipython3",
   "version": "3.7.1"
  }
 },
 "nbformat": 4,
 "nbformat_minor": 2
}
